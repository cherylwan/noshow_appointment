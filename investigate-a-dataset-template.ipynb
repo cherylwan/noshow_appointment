{
 "cells": [
  {
   "cell_type": "markdown",
   "metadata": {},
   "source": [
    "# Project 3: 探索数据集--未前往就诊的挂号预约分析\n",
    " \n",
    "## Table of Contents\n",
    "<ul>\n",
    "<li><a href=\"#intro\">Introduction</a></li>\n",
    "<li><a href=\"#wrangling\">Data Wrangling</a></li>\n",
    "<li><a href=\"#eda\">Exploratory Data Analysis</a></li>\n",
    "<li><a href=\"#conclusions\">Conclusions</a></li>\n",
    "</ul>"
   ]
  },
  {
   "cell_type": "markdown",
   "metadata": {},
   "source": [
    "<a id='intro'></a>\n",
    "## Introduction\n",
    "\n",
    "> 本数据集包含10万条巴西预约挂号的求诊信息，研究病人是否如约前往医院就诊。其中最后一列内容的编码：“No”表示病人已如约就诊，“Yes”说明病人未前往就诊。\n",
    ">本次分析病人能否按时就诊的主要因素包括：\n",
    "><ul>\n",
    "><li>病人预约的时间；</li>\n",
    "><li>病人的年龄、性别；</li>\n",
    "><li>病人是否慢性病患者、酗酒或残疾；</li>\n",
    "><li>在提供短信提醒的情况下，病人按时就诊的概率是否提高。尤其对于预约时间间隔特别长的病人来说，短信提醒是否有所帮助。</li>"
   ]
  },
  {
   "cell_type": "code",
   "execution_count": 46,
   "metadata": {},
   "outputs": [],
   "source": [
    "# load library\n",
    "import pandas as pd\n",
    "import numpy as np\n",
    "import matplotlib.pyplot as plt\n",
    "% matplotlib inline\n",
    "import seaborn as sns\n",
    "sns.set_style('whitegrid')\n",
    "sns.set_palette(sns.color_palette('hls',10))"
   ]
  },
  {
   "cell_type": "markdown",
   "metadata": {},
   "source": [
    "<a id='wrangling'></a>\n",
    "## Data Wrangling\n",
    "\n",
    "\n",
    "\n",
    "### 1. 导入dataset，检查数据基本属性"
   ]
  },
  {
   "cell_type": "code",
   "execution_count": 30,
   "metadata": {},
   "outputs": [
    {
     "name": "stdout",
     "output_type": "stream",
     "text": [
      "<class 'pandas.core.frame.DataFrame'>\n",
      "RangeIndex: 110527 entries, 0 to 110526\n",
      "Data columns (total 14 columns):\n",
      "PatientId         110527 non-null float64\n",
      "AppointmentID     110527 non-null int64\n",
      "Gender            110527 non-null object\n",
      "ScheduledDay      110527 non-null object\n",
      "AppointmentDay    110527 non-null object\n",
      "Age               110527 non-null int64\n",
      "Neighbourhood     110527 non-null object\n",
      "Scholarship       110527 non-null int64\n",
      "Hipertension      110527 non-null int64\n",
      "Diabetes          110527 non-null int64\n",
      "Alcoholism        110527 non-null int64\n",
      "Handcap           110527 non-null int64\n",
      "SMS_received      110527 non-null int64\n",
      "No-show           110527 non-null object\n",
      "dtypes: float64(1), int64(8), object(5)\n",
      "memory usage: 11.8+ MB\n"
     ]
    }
   ],
   "source": [
    "# load data\n",
    "df=pd.read_csv('noshowappointments-kagglev2-may-2016.csv')\n",
    "df.info()"
   ]
  },
  {
   "cell_type": "markdown",
   "metadata": {},
   "source": [
    "**打印数据info发现dataset共有110527行，13列，没有NaN值。**"
   ]
  },
  {
   "cell_type": "markdown",
   "metadata": {},
   "source": [
    "### 2. 修改列名、数据格式"
   ]
  },
  {
   "cell_type": "code",
   "execution_count": 31,
   "metadata": {},
   "outputs": [],
   "source": [
    "# 重命名拼写错误、有破折号和下划线的列\n",
    "df = df.rename(columns={'Hipertension': 'Hypertension', 'Handcap': 'Handicap', 'SMS_received': 'SMSReceived', 'No-show': 'NoShow'})"
   ]
  },
  {
   "cell_type": "code",
   "execution_count": 32,
   "metadata": {},
   "outputs": [
    {
     "name": "stdout",
     "output_type": "stream",
     "text": [
      "<class 'pandas.core.frame.DataFrame'>\n",
      "RangeIndex: 110527 entries, 0 to 110526\n",
      "Data columns (total 14 columns):\n",
      "PatientId         110527 non-null int64\n",
      "AppointmentID     110527 non-null int64\n",
      "Gender            110527 non-null object\n",
      "ScheduledDay      110527 non-null datetime64[ns]\n",
      "AppointmentDay    110527 non-null datetime64[ns]\n",
      "Age               110527 non-null int64\n",
      "Neighbourhood     110527 non-null object\n",
      "Scholarship       110527 non-null int64\n",
      "Hypertension      110527 non-null int64\n",
      "Diabetes          110527 non-null int64\n",
      "Alcoholism        110527 non-null int64\n",
      "Handicap          110527 non-null int64\n",
      "SMSReceived       110527 non-null int64\n",
      "NoShow            110527 non-null object\n",
      "dtypes: datetime64[ns](2), int64(9), object(3)\n",
      "memory usage: 11.8+ MB\n"
     ]
    }
   ],
   "source": [
    "#转换成时间格式\n",
    "df.ScheduledDay=pd.to_datetime(df.ScheduledDay)\n",
    "df.AppointmentDay=pd.to_datetime(df.AppointmentDay)\n",
    "#将PatientId从float修改为int\n",
    "df['PatientId'] = df['PatientId'].astype('int64')\n",
    "#检查是否修改成功\n",
    "df.info()"
   ]
  },
  {
   "cell_type": "markdown",
   "metadata": {},
   "source": [
    "### 3. 删除奇异值"
   ]
  },
  {
   "cell_type": "code",
   "execution_count": 33,
   "metadata": {},
   "outputs": [
    {
     "data": {
      "text/html": [
       "<div>\n",
       "<style scoped>\n",
       "    .dataframe tbody tr th:only-of-type {\n",
       "        vertical-align: middle;\n",
       "    }\n",
       "\n",
       "    .dataframe tbody tr th {\n",
       "        vertical-align: top;\n",
       "    }\n",
       "\n",
       "    .dataframe thead th {\n",
       "        text-align: right;\n",
       "    }\n",
       "</style>\n",
       "<table border=\"1\" class=\"dataframe\">\n",
       "  <thead>\n",
       "    <tr style=\"text-align: right;\">\n",
       "      <th></th>\n",
       "      <th>PatientId</th>\n",
       "      <th>AppointmentID</th>\n",
       "      <th>Age</th>\n",
       "      <th>Scholarship</th>\n",
       "      <th>Hypertension</th>\n",
       "      <th>Diabetes</th>\n",
       "      <th>Alcoholism</th>\n",
       "      <th>Handicap</th>\n",
       "      <th>SMSReceived</th>\n",
       "    </tr>\n",
       "  </thead>\n",
       "  <tbody>\n",
       "    <tr>\n",
       "      <th>count</th>\n",
       "      <td>1.105270e+05</td>\n",
       "      <td>1.105270e+05</td>\n",
       "      <td>110527.000000</td>\n",
       "      <td>110527.000000</td>\n",
       "      <td>110527.000000</td>\n",
       "      <td>110527.000000</td>\n",
       "      <td>110527.000000</td>\n",
       "      <td>110527.000000</td>\n",
       "      <td>110527.000000</td>\n",
       "    </tr>\n",
       "    <tr>\n",
       "      <th>mean</th>\n",
       "      <td>1.474963e+14</td>\n",
       "      <td>5.675305e+06</td>\n",
       "      <td>37.088874</td>\n",
       "      <td>0.098266</td>\n",
       "      <td>0.197246</td>\n",
       "      <td>0.071865</td>\n",
       "      <td>0.030400</td>\n",
       "      <td>0.022248</td>\n",
       "      <td>0.321026</td>\n",
       "    </tr>\n",
       "    <tr>\n",
       "      <th>std</th>\n",
       "      <td>2.560949e+14</td>\n",
       "      <td>7.129575e+04</td>\n",
       "      <td>23.110205</td>\n",
       "      <td>0.297675</td>\n",
       "      <td>0.397921</td>\n",
       "      <td>0.258265</td>\n",
       "      <td>0.171686</td>\n",
       "      <td>0.161543</td>\n",
       "      <td>0.466873</td>\n",
       "    </tr>\n",
       "    <tr>\n",
       "      <th>min</th>\n",
       "      <td>3.921700e+04</td>\n",
       "      <td>5.030230e+06</td>\n",
       "      <td>-1.000000</td>\n",
       "      <td>0.000000</td>\n",
       "      <td>0.000000</td>\n",
       "      <td>0.000000</td>\n",
       "      <td>0.000000</td>\n",
       "      <td>0.000000</td>\n",
       "      <td>0.000000</td>\n",
       "    </tr>\n",
       "    <tr>\n",
       "      <th>25%</th>\n",
       "      <td>4.172614e+12</td>\n",
       "      <td>5.640286e+06</td>\n",
       "      <td>18.000000</td>\n",
       "      <td>0.000000</td>\n",
       "      <td>0.000000</td>\n",
       "      <td>0.000000</td>\n",
       "      <td>0.000000</td>\n",
       "      <td>0.000000</td>\n",
       "      <td>0.000000</td>\n",
       "    </tr>\n",
       "    <tr>\n",
       "      <th>50%</th>\n",
       "      <td>3.173184e+13</td>\n",
       "      <td>5.680573e+06</td>\n",
       "      <td>37.000000</td>\n",
       "      <td>0.000000</td>\n",
       "      <td>0.000000</td>\n",
       "      <td>0.000000</td>\n",
       "      <td>0.000000</td>\n",
       "      <td>0.000000</td>\n",
       "      <td>0.000000</td>\n",
       "    </tr>\n",
       "    <tr>\n",
       "      <th>75%</th>\n",
       "      <td>9.439172e+13</td>\n",
       "      <td>5.725524e+06</td>\n",
       "      <td>55.000000</td>\n",
       "      <td>0.000000</td>\n",
       "      <td>0.000000</td>\n",
       "      <td>0.000000</td>\n",
       "      <td>0.000000</td>\n",
       "      <td>0.000000</td>\n",
       "      <td>1.000000</td>\n",
       "    </tr>\n",
       "    <tr>\n",
       "      <th>max</th>\n",
       "      <td>9.999816e+14</td>\n",
       "      <td>5.790484e+06</td>\n",
       "      <td>115.000000</td>\n",
       "      <td>1.000000</td>\n",
       "      <td>1.000000</td>\n",
       "      <td>1.000000</td>\n",
       "      <td>1.000000</td>\n",
       "      <td>4.000000</td>\n",
       "      <td>1.000000</td>\n",
       "    </tr>\n",
       "  </tbody>\n",
       "</table>\n",
       "</div>"
      ],
      "text/plain": [
       "          PatientId  AppointmentID            Age    Scholarship  \\\n",
       "count  1.105270e+05   1.105270e+05  110527.000000  110527.000000   \n",
       "mean   1.474963e+14   5.675305e+06      37.088874       0.098266   \n",
       "std    2.560949e+14   7.129575e+04      23.110205       0.297675   \n",
       "min    3.921700e+04   5.030230e+06      -1.000000       0.000000   \n",
       "25%    4.172614e+12   5.640286e+06      18.000000       0.000000   \n",
       "50%    3.173184e+13   5.680573e+06      37.000000       0.000000   \n",
       "75%    9.439172e+13   5.725524e+06      55.000000       0.000000   \n",
       "max    9.999816e+14   5.790484e+06     115.000000       1.000000   \n",
       "\n",
       "        Hypertension       Diabetes     Alcoholism       Handicap  \\\n",
       "count  110527.000000  110527.000000  110527.000000  110527.000000   \n",
       "mean        0.197246       0.071865       0.030400       0.022248   \n",
       "std         0.397921       0.258265       0.171686       0.161543   \n",
       "min         0.000000       0.000000       0.000000       0.000000   \n",
       "25%         0.000000       0.000000       0.000000       0.000000   \n",
       "50%         0.000000       0.000000       0.000000       0.000000   \n",
       "75%         0.000000       0.000000       0.000000       0.000000   \n",
       "max         1.000000       1.000000       1.000000       4.000000   \n",
       "\n",
       "         SMSReceived  \n",
       "count  110527.000000  \n",
       "mean        0.321026  \n",
       "std         0.466873  \n",
       "min         0.000000  \n",
       "25%         0.000000  \n",
       "50%         0.000000  \n",
       "75%         1.000000  \n",
       "max         1.000000  "
      ]
     },
     "execution_count": 33,
     "metadata": {},
     "output_type": "execute_result"
    }
   ],
   "source": [
    "#检查数据内容\n",
    "df.describe()"
   ]
  },
  {
   "cell_type": "markdown",
   "metadata": {},
   "source": [
    "**检查发现Age的最小值为-1，应删除；  \n",
    "    Age的最大值为115，Handicap的最大值为4，需打印确认数据是否合理；** "
   ]
  },
  {
   "cell_type": "code",
   "execution_count": 34,
   "metadata": {},
   "outputs": [
    {
     "data": {
      "text/html": [
       "<div>\n",
       "<style scoped>\n",
       "    .dataframe tbody tr th:only-of-type {\n",
       "        vertical-align: middle;\n",
       "    }\n",
       "\n",
       "    .dataframe tbody tr th {\n",
       "        vertical-align: top;\n",
       "    }\n",
       "\n",
       "    .dataframe thead th {\n",
       "        text-align: right;\n",
       "    }\n",
       "</style>\n",
       "<table border=\"1\" class=\"dataframe\">\n",
       "  <thead>\n",
       "    <tr style=\"text-align: right;\">\n",
       "      <th></th>\n",
       "      <th>PatientId</th>\n",
       "      <th>AppointmentID</th>\n",
       "      <th>Gender</th>\n",
       "      <th>ScheduledDay</th>\n",
       "      <th>AppointmentDay</th>\n",
       "      <th>Age</th>\n",
       "      <th>Neighbourhood</th>\n",
       "      <th>Scholarship</th>\n",
       "      <th>Hypertension</th>\n",
       "      <th>Diabetes</th>\n",
       "      <th>Alcoholism</th>\n",
       "      <th>Handicap</th>\n",
       "      <th>SMSReceived</th>\n",
       "      <th>NoShow</th>\n",
       "    </tr>\n",
       "  </thead>\n",
       "  <tbody>\n",
       "    <tr>\n",
       "      <th>58014</th>\n",
       "      <td>976294799775439</td>\n",
       "      <td>5651757</td>\n",
       "      <td>F</td>\n",
       "      <td>2016-05-03 09:14:53</td>\n",
       "      <td>2016-05-03</td>\n",
       "      <td>102</td>\n",
       "      <td>CONQUISTA</td>\n",
       "      <td>0</td>\n",
       "      <td>0</td>\n",
       "      <td>0</td>\n",
       "      <td>0</td>\n",
       "      <td>0</td>\n",
       "      <td>0</td>\n",
       "      <td>No</td>\n",
       "    </tr>\n",
       "    <tr>\n",
       "      <th>63912</th>\n",
       "      <td>31963211613981</td>\n",
       "      <td>5700278</td>\n",
       "      <td>F</td>\n",
       "      <td>2016-05-16 09:17:44</td>\n",
       "      <td>2016-05-19</td>\n",
       "      <td>115</td>\n",
       "      <td>ANDORINHAS</td>\n",
       "      <td>0</td>\n",
       "      <td>0</td>\n",
       "      <td>0</td>\n",
       "      <td>0</td>\n",
       "      <td>1</td>\n",
       "      <td>0</td>\n",
       "      <td>Yes</td>\n",
       "    </tr>\n",
       "    <tr>\n",
       "      <th>63915</th>\n",
       "      <td>31963211613981</td>\n",
       "      <td>5700279</td>\n",
       "      <td>F</td>\n",
       "      <td>2016-05-16 09:17:44</td>\n",
       "      <td>2016-05-19</td>\n",
       "      <td>115</td>\n",
       "      <td>ANDORINHAS</td>\n",
       "      <td>0</td>\n",
       "      <td>0</td>\n",
       "      <td>0</td>\n",
       "      <td>0</td>\n",
       "      <td>1</td>\n",
       "      <td>0</td>\n",
       "      <td>Yes</td>\n",
       "    </tr>\n",
       "    <tr>\n",
       "      <th>68127</th>\n",
       "      <td>31963211613981</td>\n",
       "      <td>5562812</td>\n",
       "      <td>F</td>\n",
       "      <td>2016-04-08 14:29:17</td>\n",
       "      <td>2016-05-16</td>\n",
       "      <td>115</td>\n",
       "      <td>ANDORINHAS</td>\n",
       "      <td>0</td>\n",
       "      <td>0</td>\n",
       "      <td>0</td>\n",
       "      <td>0</td>\n",
       "      <td>1</td>\n",
       "      <td>0</td>\n",
       "      <td>Yes</td>\n",
       "    </tr>\n",
       "    <tr>\n",
       "      <th>76284</th>\n",
       "      <td>31963211613981</td>\n",
       "      <td>5744037</td>\n",
       "      <td>F</td>\n",
       "      <td>2016-05-30 09:44:51</td>\n",
       "      <td>2016-05-30</td>\n",
       "      <td>115</td>\n",
       "      <td>ANDORINHAS</td>\n",
       "      <td>0</td>\n",
       "      <td>0</td>\n",
       "      <td>0</td>\n",
       "      <td>0</td>\n",
       "      <td>1</td>\n",
       "      <td>0</td>\n",
       "      <td>No</td>\n",
       "    </tr>\n",
       "    <tr>\n",
       "      <th>90372</th>\n",
       "      <td>234283596548</td>\n",
       "      <td>5751563</td>\n",
       "      <td>F</td>\n",
       "      <td>2016-05-31 10:19:49</td>\n",
       "      <td>2016-06-02</td>\n",
       "      <td>102</td>\n",
       "      <td>MARIA ORTIZ</td>\n",
       "      <td>0</td>\n",
       "      <td>0</td>\n",
       "      <td>0</td>\n",
       "      <td>0</td>\n",
       "      <td>0</td>\n",
       "      <td>0</td>\n",
       "      <td>No</td>\n",
       "    </tr>\n",
       "    <tr>\n",
       "      <th>97666</th>\n",
       "      <td>748234579244724</td>\n",
       "      <td>5717451</td>\n",
       "      <td>F</td>\n",
       "      <td>2016-05-19 07:57:56</td>\n",
       "      <td>2016-06-03</td>\n",
       "      <td>115</td>\n",
       "      <td>SÃO JOSÉ</td>\n",
       "      <td>0</td>\n",
       "      <td>1</td>\n",
       "      <td>0</td>\n",
       "      <td>0</td>\n",
       "      <td>0</td>\n",
       "      <td>1</td>\n",
       "      <td>No</td>\n",
       "    </tr>\n",
       "  </tbody>\n",
       "</table>\n",
       "</div>"
      ],
      "text/plain": [
       "             PatientId  AppointmentID Gender        ScheduledDay  \\\n",
       "58014  976294799775439        5651757      F 2016-05-03 09:14:53   \n",
       "63912   31963211613981        5700278      F 2016-05-16 09:17:44   \n",
       "63915   31963211613981        5700279      F 2016-05-16 09:17:44   \n",
       "68127   31963211613981        5562812      F 2016-04-08 14:29:17   \n",
       "76284   31963211613981        5744037      F 2016-05-30 09:44:51   \n",
       "90372     234283596548        5751563      F 2016-05-31 10:19:49   \n",
       "97666  748234579244724        5717451      F 2016-05-19 07:57:56   \n",
       "\n",
       "      AppointmentDay  Age Neighbourhood  Scholarship  Hypertension  Diabetes  \\\n",
       "58014     2016-05-03  102     CONQUISTA            0             0         0   \n",
       "63912     2016-05-19  115    ANDORINHAS            0             0         0   \n",
       "63915     2016-05-19  115    ANDORINHAS            0             0         0   \n",
       "68127     2016-05-16  115    ANDORINHAS            0             0         0   \n",
       "76284     2016-05-30  115    ANDORINHAS            0             0         0   \n",
       "90372     2016-06-02  102   MARIA ORTIZ            0             0         0   \n",
       "97666     2016-06-03  115      SÃO JOSÉ            0             1         0   \n",
       "\n",
       "       Alcoholism  Handicap  SMSReceived NoShow  \n",
       "58014           0         0            0     No  \n",
       "63912           0         1            0    Yes  \n",
       "63915           0         1            0    Yes  \n",
       "68127           0         1            0    Yes  \n",
       "76284           0         1            0     No  \n",
       "90372           0         0            0     No  \n",
       "97666           0         0            1     No  "
      ]
     },
     "execution_count": 34,
     "metadata": {},
     "output_type": "execute_result"
    }
   ],
   "source": [
    "#参看超过100岁的病人数据\n",
    "df.query('Age>100')"
   ]
  },
  {
   "cell_type": "markdown",
   "metadata": {},
   "source": [
    "**115岁的老人共5人，其中4人来自同一地区，且两人在同一时预约，可信度不高。**"
   ]
  },
  {
   "cell_type": "code",
   "execution_count": 35,
   "metadata": {},
   "outputs": [],
   "source": [
    "#删除115岁的病人、小于0岁的病人。\n",
    "df=df[(df.Age>=0)&(df.Age<115)]"
   ]
  },
  {
   "cell_type": "code",
   "execution_count": 36,
   "metadata": {},
   "outputs": [
    {
     "data": {
      "text/plain": [
       "0    108284\n",
       "1      2038\n",
       "2       183\n",
       "3        13\n",
       "4         3\n",
       "Name: Handicap, dtype: int64"
      ]
     },
     "execution_count": 36,
     "metadata": {},
     "output_type": "execute_result"
    }
   ],
   "source": [
    "#查看Handicap的值分类\n",
    "df['Handicap'].value_counts()"
   ]
  },
  {
   "cell_type": "markdown",
   "metadata": {},
   "source": [
    "**残障分为1-4钟不同类型或程度，由于文档没有相关数据描述，本次分析将0视为无残疾，1-4为残疾的不同程度。**"
   ]
  },
  {
   "cell_type": "code",
   "execution_count": 69,
   "metadata": {},
   "outputs": [
    {
     "name": "stdout",
     "output_type": "stream",
     "text": [
      "In total,20.19% of people didn't show up on their appointment.\n"
     ]
    }
   ],
   "source": [
    "#计算整体误诊率\n",
    "total_ratio=df[df.NoShow == 'Yes'].shape[0]/df.shape[0]\n",
    "print(\"In total,{:.2%} of people didn't show up on their appointment.\".format(total_ratio))"
   ]
  },
  {
   "cell_type": "markdown",
   "metadata": {},
   "source": [
    "<a id='eda'></a>\n",
    "## Exploratory Data Analysis\n",
    "\n",
    "\n",
    "\n",
    "### Q1: 病人的预约时间对按时就诊率的影响"
   ]
  },
  {
   "cell_type": "code",
   "execution_count": 37,
   "metadata": {},
   "outputs": [],
   "source": [
    "# 计算Scheduled day 与 appointment day之间的日期间隔\n",
    "df['duration']=df.AppointmentDay.dt.date-df.ScheduledDay.dt.date\n",
    "df['duration']=df['duration'].dt.days"
   ]
  },
  {
   "cell_type": "code",
   "execution_count": 38,
   "metadata": {},
   "outputs": [
    {
     "data": {
      "text/html": [
       "<div>\n",
       "<style scoped>\n",
       "    .dataframe tbody tr th:only-of-type {\n",
       "        vertical-align: middle;\n",
       "    }\n",
       "\n",
       "    .dataframe tbody tr th {\n",
       "        vertical-align: top;\n",
       "    }\n",
       "\n",
       "    .dataframe thead th {\n",
       "        text-align: right;\n",
       "    }\n",
       "</style>\n",
       "<table border=\"1\" class=\"dataframe\">\n",
       "  <thead>\n",
       "    <tr style=\"text-align: right;\">\n",
       "      <th></th>\n",
       "      <th>PatientId</th>\n",
       "      <th>AppointmentID</th>\n",
       "      <th>Age</th>\n",
       "      <th>Scholarship</th>\n",
       "      <th>Hypertension</th>\n",
       "      <th>Diabetes</th>\n",
       "      <th>Alcoholism</th>\n",
       "      <th>Handicap</th>\n",
       "      <th>SMSReceived</th>\n",
       "      <th>duration</th>\n",
       "    </tr>\n",
       "  </thead>\n",
       "  <tbody>\n",
       "    <tr>\n",
       "      <th>count</th>\n",
       "      <td>1.105210e+05</td>\n",
       "      <td>1.105210e+05</td>\n",
       "      <td>110521.000000</td>\n",
       "      <td>110521.000000</td>\n",
       "      <td>110521.000000</td>\n",
       "      <td>110521.000000</td>\n",
       "      <td>110521.000000</td>\n",
       "      <td>110521.000000</td>\n",
       "      <td>110521.000000</td>\n",
       "      <td>110521.000000</td>\n",
       "    </tr>\n",
       "    <tr>\n",
       "      <th>mean</th>\n",
       "      <td>1.474921e+14</td>\n",
       "      <td>5.675304e+06</td>\n",
       "      <td>37.085694</td>\n",
       "      <td>0.098271</td>\n",
       "      <td>0.197248</td>\n",
       "      <td>0.071869</td>\n",
       "      <td>0.030401</td>\n",
       "      <td>0.022213</td>\n",
       "      <td>0.321034</td>\n",
       "      <td>10.183721</td>\n",
       "    </tr>\n",
       "    <tr>\n",
       "      <th>std</th>\n",
       "      <td>2.560928e+14</td>\n",
       "      <td>7.129576e+04</td>\n",
       "      <td>23.104606</td>\n",
       "      <td>0.297682</td>\n",
       "      <td>0.397923</td>\n",
       "      <td>0.258272</td>\n",
       "      <td>0.171690</td>\n",
       "      <td>0.161440</td>\n",
       "      <td>0.466876</td>\n",
       "      <td>15.255082</td>\n",
       "    </tr>\n",
       "    <tr>\n",
       "      <th>min</th>\n",
       "      <td>3.921700e+04</td>\n",
       "      <td>5.030230e+06</td>\n",
       "      <td>0.000000</td>\n",
       "      <td>0.000000</td>\n",
       "      <td>0.000000</td>\n",
       "      <td>0.000000</td>\n",
       "      <td>0.000000</td>\n",
       "      <td>0.000000</td>\n",
       "      <td>0.000000</td>\n",
       "      <td>-6.000000</td>\n",
       "    </tr>\n",
       "    <tr>\n",
       "      <th>25%</th>\n",
       "      <td>4.172457e+12</td>\n",
       "      <td>5.640285e+06</td>\n",
       "      <td>18.000000</td>\n",
       "      <td>0.000000</td>\n",
       "      <td>0.000000</td>\n",
       "      <td>0.000000</td>\n",
       "      <td>0.000000</td>\n",
       "      <td>0.000000</td>\n",
       "      <td>0.000000</td>\n",
       "      <td>0.000000</td>\n",
       "    </tr>\n",
       "    <tr>\n",
       "      <th>50%</th>\n",
       "      <td>3.172598e+13</td>\n",
       "      <td>5.680569e+06</td>\n",
       "      <td>37.000000</td>\n",
       "      <td>0.000000</td>\n",
       "      <td>0.000000</td>\n",
       "      <td>0.000000</td>\n",
       "      <td>0.000000</td>\n",
       "      <td>0.000000</td>\n",
       "      <td>0.000000</td>\n",
       "      <td>4.000000</td>\n",
       "    </tr>\n",
       "    <tr>\n",
       "      <th>75%</th>\n",
       "      <td>9.438963e+13</td>\n",
       "      <td>5.725523e+06</td>\n",
       "      <td>55.000000</td>\n",
       "      <td>0.000000</td>\n",
       "      <td>0.000000</td>\n",
       "      <td>0.000000</td>\n",
       "      <td>0.000000</td>\n",
       "      <td>0.000000</td>\n",
       "      <td>1.000000</td>\n",
       "      <td>15.000000</td>\n",
       "    </tr>\n",
       "    <tr>\n",
       "      <th>max</th>\n",
       "      <td>9.999816e+14</td>\n",
       "      <td>5.790484e+06</td>\n",
       "      <td>102.000000</td>\n",
       "      <td>1.000000</td>\n",
       "      <td>1.000000</td>\n",
       "      <td>1.000000</td>\n",
       "      <td>1.000000</td>\n",
       "      <td>4.000000</td>\n",
       "      <td>1.000000</td>\n",
       "      <td>179.000000</td>\n",
       "    </tr>\n",
       "  </tbody>\n",
       "</table>\n",
       "</div>"
      ],
      "text/plain": [
       "          PatientId  AppointmentID            Age    Scholarship  \\\n",
       "count  1.105210e+05   1.105210e+05  110521.000000  110521.000000   \n",
       "mean   1.474921e+14   5.675304e+06      37.085694       0.098271   \n",
       "std    2.560928e+14   7.129576e+04      23.104606       0.297682   \n",
       "min    3.921700e+04   5.030230e+06       0.000000       0.000000   \n",
       "25%    4.172457e+12   5.640285e+06      18.000000       0.000000   \n",
       "50%    3.172598e+13   5.680569e+06      37.000000       0.000000   \n",
       "75%    9.438963e+13   5.725523e+06      55.000000       0.000000   \n",
       "max    9.999816e+14   5.790484e+06     102.000000       1.000000   \n",
       "\n",
       "        Hypertension       Diabetes     Alcoholism       Handicap  \\\n",
       "count  110521.000000  110521.000000  110521.000000  110521.000000   \n",
       "mean        0.197248       0.071869       0.030401       0.022213   \n",
       "std         0.397923       0.258272       0.171690       0.161440   \n",
       "min         0.000000       0.000000       0.000000       0.000000   \n",
       "25%         0.000000       0.000000       0.000000       0.000000   \n",
       "50%         0.000000       0.000000       0.000000       0.000000   \n",
       "75%         0.000000       0.000000       0.000000       0.000000   \n",
       "max         1.000000       1.000000       1.000000       4.000000   \n",
       "\n",
       "         SMSReceived       duration  \n",
       "count  110521.000000  110521.000000  \n",
       "mean        0.321034      10.183721  \n",
       "std         0.466876      15.255082  \n",
       "min         0.000000      -6.000000  \n",
       "25%         0.000000       0.000000  \n",
       "50%         0.000000       4.000000  \n",
       "75%         1.000000      15.000000  \n",
       "max         1.000000     179.000000  "
      ]
     },
     "execution_count": 38,
     "metadata": {},
     "output_type": "execute_result"
    }
   ],
   "source": [
    "# 查看appointment day 是星期几\n",
    "df['weekday']=df.AppointmentDay.dt.weekday_name\n",
    "df.head()\n",
    "df.describe()"
   ]
  },
  {
   "cell_type": "markdown",
   "metadata": {},
   "source": [
    "**发现duration的最小值小于0，即存在预定的日期已经在安排日期之前的情况。**"
   ]
  },
  {
   "cell_type": "code",
   "execution_count": 39,
   "metadata": {},
   "outputs": [
    {
     "data": {
      "text/html": [
       "<div>\n",
       "<style scoped>\n",
       "    .dataframe tbody tr th:only-of-type {\n",
       "        vertical-align: middle;\n",
       "    }\n",
       "\n",
       "    .dataframe tbody tr th {\n",
       "        vertical-align: top;\n",
       "    }\n",
       "\n",
       "    .dataframe thead th {\n",
       "        text-align: right;\n",
       "    }\n",
       "</style>\n",
       "<table border=\"1\" class=\"dataframe\">\n",
       "  <thead>\n",
       "    <tr style=\"text-align: right;\">\n",
       "      <th></th>\n",
       "      <th>PatientId</th>\n",
       "      <th>AppointmentID</th>\n",
       "      <th>Gender</th>\n",
       "      <th>ScheduledDay</th>\n",
       "      <th>AppointmentDay</th>\n",
       "      <th>Age</th>\n",
       "      <th>Neighbourhood</th>\n",
       "      <th>Scholarship</th>\n",
       "      <th>Hypertension</th>\n",
       "      <th>Diabetes</th>\n",
       "      <th>Alcoholism</th>\n",
       "      <th>Handicap</th>\n",
       "      <th>SMSReceived</th>\n",
       "      <th>NoShow</th>\n",
       "      <th>duration</th>\n",
       "      <th>weekday</th>\n",
       "    </tr>\n",
       "  </thead>\n",
       "  <tbody>\n",
       "    <tr>\n",
       "      <th>27033</th>\n",
       "      <td>7839272661752</td>\n",
       "      <td>5679978</td>\n",
       "      <td>M</td>\n",
       "      <td>2016-05-10 10:51:53</td>\n",
       "      <td>2016-05-09</td>\n",
       "      <td>38</td>\n",
       "      <td>RESISTÊNCIA</td>\n",
       "      <td>0</td>\n",
       "      <td>0</td>\n",
       "      <td>0</td>\n",
       "      <td>0</td>\n",
       "      <td>1</td>\n",
       "      <td>0</td>\n",
       "      <td>Yes</td>\n",
       "      <td>-1</td>\n",
       "      <td>Monday</td>\n",
       "    </tr>\n",
       "    <tr>\n",
       "      <th>55226</th>\n",
       "      <td>7896293967868</td>\n",
       "      <td>5715660</td>\n",
       "      <td>F</td>\n",
       "      <td>2016-05-18 14:50:41</td>\n",
       "      <td>2016-05-17</td>\n",
       "      <td>19</td>\n",
       "      <td>SANTO ANTÔNIO</td>\n",
       "      <td>0</td>\n",
       "      <td>0</td>\n",
       "      <td>0</td>\n",
       "      <td>0</td>\n",
       "      <td>1</td>\n",
       "      <td>0</td>\n",
       "      <td>Yes</td>\n",
       "      <td>-1</td>\n",
       "      <td>Tuesday</td>\n",
       "    </tr>\n",
       "    <tr>\n",
       "      <th>64175</th>\n",
       "      <td>24252258389979</td>\n",
       "      <td>5664962</td>\n",
       "      <td>F</td>\n",
       "      <td>2016-05-05 13:43:58</td>\n",
       "      <td>2016-05-04</td>\n",
       "      <td>22</td>\n",
       "      <td>CONSOLAÇÃO</td>\n",
       "      <td>0</td>\n",
       "      <td>0</td>\n",
       "      <td>0</td>\n",
       "      <td>0</td>\n",
       "      <td>0</td>\n",
       "      <td>0</td>\n",
       "      <td>Yes</td>\n",
       "      <td>-1</td>\n",
       "      <td>Wednesday</td>\n",
       "    </tr>\n",
       "    <tr>\n",
       "      <th>71533</th>\n",
       "      <td>998231581612122</td>\n",
       "      <td>5686628</td>\n",
       "      <td>F</td>\n",
       "      <td>2016-05-11 13:49:20</td>\n",
       "      <td>2016-05-05</td>\n",
       "      <td>81</td>\n",
       "      <td>SANTO ANTÔNIO</td>\n",
       "      <td>0</td>\n",
       "      <td>0</td>\n",
       "      <td>0</td>\n",
       "      <td>0</td>\n",
       "      <td>0</td>\n",
       "      <td>0</td>\n",
       "      <td>Yes</td>\n",
       "      <td>-6</td>\n",
       "      <td>Thursday</td>\n",
       "    </tr>\n",
       "    <tr>\n",
       "      <th>72362</th>\n",
       "      <td>3787481966821</td>\n",
       "      <td>5655637</td>\n",
       "      <td>M</td>\n",
       "      <td>2016-05-04 06:50:57</td>\n",
       "      <td>2016-05-03</td>\n",
       "      <td>7</td>\n",
       "      <td>TABUAZEIRO</td>\n",
       "      <td>0</td>\n",
       "      <td>0</td>\n",
       "      <td>0</td>\n",
       "      <td>0</td>\n",
       "      <td>0</td>\n",
       "      <td>0</td>\n",
       "      <td>Yes</td>\n",
       "      <td>-1</td>\n",
       "      <td>Tuesday</td>\n",
       "    </tr>\n",
       "  </tbody>\n",
       "</table>\n",
       "</div>"
      ],
      "text/plain": [
       "             PatientId  AppointmentID Gender        ScheduledDay  \\\n",
       "27033    7839272661752        5679978      M 2016-05-10 10:51:53   \n",
       "55226    7896293967868        5715660      F 2016-05-18 14:50:41   \n",
       "64175   24252258389979        5664962      F 2016-05-05 13:43:58   \n",
       "71533  998231581612122        5686628      F 2016-05-11 13:49:20   \n",
       "72362    3787481966821        5655637      M 2016-05-04 06:50:57   \n",
       "\n",
       "      AppointmentDay  Age  Neighbourhood  Scholarship  Hypertension  Diabetes  \\\n",
       "27033     2016-05-09   38    RESISTÊNCIA            0             0         0   \n",
       "55226     2016-05-17   19  SANTO ANTÔNIO            0             0         0   \n",
       "64175     2016-05-04   22     CONSOLAÇÃO            0             0         0   \n",
       "71533     2016-05-05   81  SANTO ANTÔNIO            0             0         0   \n",
       "72362     2016-05-03    7     TABUAZEIRO            0             0         0   \n",
       "\n",
       "       Alcoholism  Handicap  SMSReceived NoShow  duration    weekday  \n",
       "27033           0         1            0    Yes        -1     Monday  \n",
       "55226           0         1            0    Yes        -1    Tuesday  \n",
       "64175           0         0            0    Yes        -1  Wednesday  \n",
       "71533           0         0            0    Yes        -6   Thursday  \n",
       "72362           0         0            0    Yes        -1    Tuesday  "
      ]
     },
     "execution_count": 39,
     "metadata": {},
     "output_type": "execute_result"
    }
   ],
   "source": [
    "# 查看duration<0的数据行\n",
    "df[df['duration']<0]"
   ]
  },
  {
   "cell_type": "markdown",
   "metadata": {},
   "source": [
    "**共存在6行此类数据，No Show为yes，说明因预约日期有误，病人无法如期就诊，下面删除这6行数据。**"
   ]
  },
  {
   "cell_type": "code",
   "execution_count": 40,
   "metadata": {},
   "outputs": [
    {
     "data": {
      "text/plain": [
       "(110516, 16)"
      ]
     },
     "execution_count": 40,
     "metadata": {},
     "output_type": "execute_result"
    }
   ],
   "source": [
    "df=df[df['duration']>=0]\n",
    "#检查是否删除了6行数据\n",
    "df.shape"
   ]
  },
  {
   "cell_type": "markdown",
   "metadata": {},
   "source": [
    "#### （1）工作日和周末对no-show rate的影响"
   ]
  },
  {
   "cell_type": "code",
   "execution_count": 50,
   "metadata": {},
   "outputs": [
    {
     "data": {
      "text/plain": [
       "(array([0, 1, 2, 3, 4, 5]), <a list of 6 Text xticklabel objects>)"
      ]
     },
     "execution_count": 50,
     "metadata": {},
     "output_type": "execute_result"
    },
    {
     "data": {
      "image/png": "[encoded data removed]",
      "text/plain": [
       "<Figure size 341.25x288 with 1 Axes>"
      ]
     },
     "metadata": {},
     "output_type": "display_data"
    }
   ],
   "source": [
    "#分类查看周一到周日的到诊量\n",
    "sns.factorplot(\"weekday\",data=df,hue=\"NoShow\",kind=\"count\")\n",
    "plt.xticks(rotation=45)"
   ]
  },
  {
   "cell_type": "markdown",
   "metadata": {},
   "source": [
    "**bar plot上周六因预约数过少，无法看清比例；且横坐标没有周日。下面计算周一到周日的爽约情况。**"
   ]
  },
  {
   "cell_type": "code",
   "execution_count": 121,
   "metadata": {},
   "outputs": [],
   "source": [
    "#该函数用于计算分类比率\n",
    "def ratio(item):\n",
    "    return df[df.NoShow == 'Yes'].groupby(item).size()/df.groupby(item).size()"
   ]
  },
  {
   "cell_type": "code",
   "execution_count": 123,
   "metadata": {},
   "outputs": [
    {
     "name": "stdout",
     "output_type": "stream",
     "text": [
      "weekday\n",
      "Friday       0.212273\n",
      "Monday       0.206420\n",
      "Saturday     0.230769\n",
      "Thursday     0.193401\n",
      "Tuesday      0.200874\n",
      "Wednesday    0.196861\n",
      "dtype: float64\n"
     ]
    },
    {
     "data": {
      "image/png": "[encoded data removed]",
      "text/plain": [
       "<Figure size 432x288 with 1 Axes>"
      ]
     },
     "metadata": {},
     "output_type": "display_data"
    }
   ],
   "source": [
    "#计算误诊率\n",
    "weekday_ratio=ratio('weekday')\n",
    "fig=sns.barplot(x=weekday_ratio.index, y=weekday_ratio, order=['Monday','Tuesday','Wednesday','Thursday','Friday','Saturday','Sunday'])\n",
    "fig.set_title(\"No-show rates by weekday\")\n",
    "print(weekday_ratio)"
   ]
  },
  {
   "cell_type": "markdown",
   "metadata": {},
   "source": [
    "**从上图可以看出：  \n",
    "周一到周五的误诊率都在20%左右，与整体误诊率一致。周六的误诊率最高，达到23%；  \n",
    "周六的预约量极少，周日无预约，可能因为大部分医院不接受周末的预约。  \n",
    "综合来看，weekday并不适合用来判断病人能否按时就诊。**"
   ]
  },
  {
   "cell_type": "markdown",
   "metadata": {},
   "source": [
    "#### （2） 安排日期和预定日期之间的时间间隔对到诊率的影响"
   ]
  },
  {
   "cell_type": "markdown",
   "metadata": {},
   "source": [
    "一般来说，预约当天就诊的病人的应当会如期就诊，下面验证这一推测："
   ]
  },
  {
   "cell_type": "code",
   "execution_count": 99,
   "metadata": {},
   "outputs": [
    {
     "data": {
      "text/plain": [
       "0.04647182386348902"
      ]
     },
     "execution_count": 99,
     "metadata": {},
     "output_type": "execute_result"
    }
   ],
   "source": [
    "df[df.NoShow == 'Yes'].groupby(['duration']).size()[0]/(df.groupby(['duration']).size()[0])"
   ]
  },
  {
   "cell_type": "markdown",
   "metadata": {},
   "source": [
    "**仅有4.67%的人会在预约当天看病的情况下爽约，这一比例大大小于总体爽约率（20%）**"
   ]
  },
  {
   "cell_type": "code",
   "execution_count": 98,
   "metadata": {},
   "outputs": [
    {
     "data": {
      "text/plain": [
       "129"
      ]
     },
     "execution_count": 98,
     "metadata": {},
     "output_type": "execute_result"
    }
   ],
   "source": [
    "len(df['duration'].unique())"
   ]
  },
  {
   "cell_type": "markdown",
   "metadata": {},
   "source": [
    "**因duration的取值范围过大，下面对duration进行分类：**"
   ]
  },
  {
   "cell_type": "code",
   "execution_count": 103,
   "metadata": {},
   "outputs": [],
   "source": [
    "bin_edges = [-1,0,4,15,30,180 ]\n",
    "bin_names = [\"0 day\", \"1-4 days\", \"5-15 days\",\"16-30 days\",\">1 month\" ]\n",
    "df['duration_group'] = pd.cut(df['duration'], bin_edges, labels=bin_names)"
   ]
  },
  {
   "cell_type": "code",
   "execution_count": 104,
   "metadata": {},
   "outputs": [
    {
     "data": {
      "text/plain": [
       "(array([0, 1, 2, 3, 4]), <a list of 5 Text xticklabel objects>)"
      ]
     },
     "execution_count": 104,
     "metadata": {},
     "output_type": "execute_result"
    },
    {
     "data": {
      "image/png": "[encoded data removed]",
      "text/plain": [
       "<Figure size 341.25x288 with 1 Axes>"
      ]
     },
     "metadata": {},
     "output_type": "display_data"
    }
   ],
   "source": [
    "sns.factorplot(\"duration_group\",data=df,hue=\"NoShow\",kind=\"count\")\n",
    "plt.xticks(rotation=90)"
   ]
  },
  {
   "cell_type": "markdown",
   "metadata": {},
   "source": [
    "**上图可以看出，预约当天就诊的人数超过35000人，约占总样本量的1/3。且随着预约日期的延后，爽约率逐步增加。  \n",
    "下面计算这一比值：**"
   ]
  },
  {
   "cell_type": "code",
   "execution_count": 127,
   "metadata": {},
   "outputs": [
    {
     "name": "stdout",
     "output_type": "stream",
     "text": [
      "duration_group\n",
      "0 day         0.046472\n",
      "1-4 days      0.229825\n",
      "5-15 days     0.285392\n",
      "16-30 days    0.325120\n",
      ">1 month      0.329960\n",
      "dtype: float64\n"
     ]
    },
    {
     "data": {
      "image/png": "[encoded data removed]",
      "text/plain": [
       "<Figure size 432x288 with 1 Axes>"
      ]
     },
     "metadata": {},
     "output_type": "display_data"
    }
   ],
   "source": [
    "#计算每个时间段的实际比值\n",
    "ind=[\"0 day\", \"1-4 days\", \"5-15 days\",\"16-30 days\",\">1 month\" ]\n",
    "duration_ratio=df[df.NoShow == 'Yes'].groupby(['duration_group']).size()/df.groupby(['duration_group']).size()\n",
    "duration_ratio.reindex(ind)\n",
    "fig=sns.barplot(x=duration_ratio.index, y=duration_ratio, order=ind)\n",
    "fig.set_title(\"No-show rates by duration group\")\n",
    "print(duration_ratio)"
   ]
  },
  {
   "cell_type": "markdown",
   "metadata": {},
   "source": [
    "**结论：仅有4.67%的人会在预约当天看病的情况下爽约；在scheduel day的5天后看诊的爽约率极大的超出了总体爽约率（20%）。因此这一指标可以用于判断病人是否能够按时赴约。**"
   ]
  },
  {
   "cell_type": "markdown",
   "metadata": {},
   "source": [
    "### Q2: 病人的性别、年龄对按时就诊率的影响  \n",
    "  \n",
    "  #### （1）性别因素"
   ]
  },
  {
   "cell_type": "code",
   "execution_count": 112,
   "metadata": {},
   "outputs": [
    {
     "data": {
      "text/plain": [
       "Text(0.5,1,'Gender distribution')"
      ]
     },
     "execution_count": 112,
     "metadata": {},
     "output_type": "execute_result"
    },
    {
     "data": {
      "image/png": "[encoded data removed]",
      "text/plain": [
       "<Figure size 432x288 with 1 Axes>"
      ]
     },
     "metadata": {},
     "output_type": "display_data"
    }
   ],
   "source": [
    "#dataset的性别分布\n",
    "fig=sns.countplot(x=df.Gender, data=df)\n",
    "fig.set_title(\"Gender distribution\")"
   ]
  },
  {
   "cell_type": "code",
   "execution_count": 135,
   "metadata": {},
   "outputs": [
    {
     "data": {
      "text/plain": [
       "Gender\n",
       "F    0.203088\n",
       "M    0.199638\n",
       "dtype: float64"
      ]
     },
     "execution_count": 135,
     "metadata": {},
     "output_type": "execute_result"
    }
   ],
   "source": [
    "#按性别计算爽约率\n",
    "ratio('Gender')"
   ]
  },
  {
   "cell_type": "markdown",
   "metadata": {},
   "source": [
    "**结论：男女病患的爽约率基本一致，且与总体爽约情况一致。故性别无法判断病人是否按照到诊。**  \n",
    "  \n",
    "#### （2）年龄因素\n",
    ">因样本数据的年龄跨度大，不适合分别计算爽约率，下面将年龄进行分组计算。"
   ]
  },
  {
   "cell_type": "code",
   "execution_count": 128,
   "metadata": {},
   "outputs": [],
   "source": [
    "#年龄分组\n",
    "bin_edges = [-1,10,18,37,55,102 ]\n",
    "bin_names = [\"<=10\", \"11-18\", \"19-37\",\"38-55\",\">55\" ]\n",
    "df['age_group'] = pd.cut(df['Age'], bin_edges, labels=bin_names)"
   ]
  },
  {
   "cell_type": "code",
   "execution_count": 130,
   "metadata": {},
   "outputs": [
    {
     "data": {
      "text/plain": [
       "age_group\n",
       "<=10     0.201995\n",
       "11-18    0.252941\n",
       "19-37    0.235320\n",
       "38-55    0.195280\n",
       ">55      0.156339\n",
       "dtype: float64"
      ]
     },
     "execution_count": 130,
     "metadata": {},
     "output_type": "execute_result"
    }
   ],
   "source": [
    "#计算爽约比例\n",
    "age_ratio=ratio('age_group')\n",
    "age_ratio"
   ]
  },
  {
   "cell_type": "code",
   "execution_count": 131,
   "metadata": {},
   "outputs": [
    {
     "data": {
      "text/plain": [
       "Text(0.5,1,'No-show rates by age group')"
      ]
     },
     "execution_count": 131,
     "metadata": {},
     "output_type": "execute_result"
    },
    {
     "data": {
      "image/png": "[encoded data removed]",
      "text/plain": [
       "<Figure size 432x288 with 1 Axes>"
      ]
     },
     "metadata": {},
     "output_type": "display_data"
    }
   ],
   "source": [
    "#爽约比例绘图\n",
    "fig=sns.barplot(x=age_ratio.index, y=age_ratio)\n",
    "fig.set_title(\"No-show rates by age group\")"
   ]
  },
  {
   "cell_type": "markdown",
   "metadata": {},
   "source": [
    "**结论：**<ul>\n",
    "<li>11-18岁的病人的爽约率最高（25.29%）；</li>\n",
    "<li>10岁以下儿童、38-55岁成人的爽约率与总体爽约率保持一致；</li>\n",
    "<li>55岁以上老人的爽约率最低（15.63%）。</li>"
   ]
  },
  {
   "cell_type": "markdown",
   "metadata": {},
   "source": [
    "### Q3: 病人是否慢性病患者、酗酒或残疾对按时就诊率的影响  \n",
    "\n",
    "#### （1）慢性病、酗酒情况"
   ]
  },
  {
   "cell_type": "code",
   "execution_count": 137,
   "metadata": {},
   "outputs": [],
   "source": [
    "##爽约率计算\n",
    "h_ratio=ratio('Hypertension')\n",
    "d_ratio=ratio('Diabetes')\n",
    "a_ratio=ratio('Alcoholism')"
   ]
  },
  {
   "cell_type": "code",
   "execution_count": 146,
   "metadata": {},
   "outputs": [
    {
     "ename": "AttributeError",
     "evalue": "module 'seaborn' has no attribute 'figure'",
     "output_type": "error",
     "traceback": [
      "\u001b[1;31m---------------------------------------------------------------------------\u001b[0m",
      "\u001b[1;31mAttributeError\u001b[0m                            Traceback (most recent call last)",
      "\u001b[1;32m<ipython-input-146-62228d0a5b74>\u001b[0m in \u001b[0;36m<module>\u001b[1;34m()\u001b[0m\n\u001b[1;32m----> 1\u001b[1;33m \u001b[0mfig\u001b[0m \u001b[1;33m=\u001b[0m\u001b[0msns\u001b[0m\u001b[1;33m.\u001b[0m\u001b[0mfigure\u001b[0m\u001b[1;33m(\u001b[0m\u001b[0mfigsize\u001b[0m\u001b[1;33m=\u001b[0m\u001b[1;33m(\u001b[0m\u001b[1;36m12\u001b[0m\u001b[1;33m,\u001b[0m \u001b[1;36m6\u001b[0m\u001b[1;33m)\u001b[0m\u001b[1;33m)\u001b[0m\u001b[1;33m\u001b[0m\u001b[0m\n\u001b[0m\u001b[0;32m      2\u001b[0m \u001b[0mfig\u001b[0m\u001b[1;33m,\u001b[0m\u001b[0maxes\u001b[0m \u001b[1;33m=\u001b[0m \u001b[0mplt\u001b[0m\u001b[1;33m.\u001b[0m\u001b[0msubplots\u001b[0m\u001b[1;33m(\u001b[0m\u001b[1;36m1\u001b[0m\u001b[1;33m,\u001b[0m\u001b[1;36m3\u001b[0m\u001b[1;33m)\u001b[0m\u001b[1;33m\u001b[0m\u001b[0m\n\u001b[0;32m      3\u001b[0m \u001b[0mfig\u001b[0m\u001b[1;33m=\u001b[0m\u001b[0msns\u001b[0m\u001b[1;33m.\u001b[0m\u001b[0mbarplot\u001b[0m\u001b[1;33m(\u001b[0m\u001b[0mx\u001b[0m\u001b[1;33m=\u001b[0m\u001b[0mh_ratio\u001b[0m\u001b[1;33m.\u001b[0m\u001b[0mindex\u001b[0m\u001b[1;33m,\u001b[0m \u001b[0my\u001b[0m\u001b[1;33m=\u001b[0m\u001b[0mh_ratio\u001b[0m\u001b[1;33m,\u001b[0m \u001b[0max\u001b[0m \u001b[1;33m=\u001b[0m \u001b[0maxes\u001b[0m\u001b[1;33m[\u001b[0m\u001b[1;36m0\u001b[0m\u001b[1;33m]\u001b[0m\u001b[1;33m)\u001b[0m\u001b[1;33m\u001b[0m\u001b[0m\n\u001b[0;32m      4\u001b[0m \u001b[0mfig1\u001b[0m\u001b[1;33m=\u001b[0m\u001b[0msns\u001b[0m\u001b[1;33m.\u001b[0m\u001b[0mbarplot\u001b[0m\u001b[1;33m(\u001b[0m\u001b[0mx\u001b[0m\u001b[1;33m=\u001b[0m\u001b[0md_ratio\u001b[0m\u001b[1;33m.\u001b[0m\u001b[0mindex\u001b[0m\u001b[1;33m,\u001b[0m \u001b[0my\u001b[0m\u001b[1;33m=\u001b[0m\u001b[0md_ratio\u001b[0m\u001b[1;33m,\u001b[0m \u001b[0max\u001b[0m \u001b[1;33m=\u001b[0m \u001b[0maxes\u001b[0m\u001b[1;33m[\u001b[0m\u001b[1;36m1\u001b[0m\u001b[1;33m]\u001b[0m\u001b[1;33m)\u001b[0m\u001b[1;33m\u001b[0m\u001b[0m\n\u001b[0;32m      5\u001b[0m \u001b[0mfig2\u001b[0m\u001b[1;33m=\u001b[0m\u001b[0msns\u001b[0m\u001b[1;33m.\u001b[0m\u001b[0mbarplot\u001b[0m\u001b[1;33m(\u001b[0m\u001b[0mx\u001b[0m\u001b[1;33m=\u001b[0m\u001b[0ma_ratio\u001b[0m\u001b[1;33m.\u001b[0m\u001b[0mindex\u001b[0m\u001b[1;33m,\u001b[0m \u001b[0my\u001b[0m\u001b[1;33m=\u001b[0m\u001b[0ma_ratio\u001b[0m\u001b[1;33m,\u001b[0m \u001b[0max\u001b[0m \u001b[1;33m=\u001b[0m \u001b[0maxes\u001b[0m\u001b[1;33m[\u001b[0m\u001b[1;36m2\u001b[0m\u001b[1;33m]\u001b[0m\u001b[1;33m)\u001b[0m\u001b[1;33m\u001b[0m\u001b[0m\n",
      "\u001b[1;31mAttributeError\u001b[0m: module 'seaborn' has no attribute 'figure'"
     ]
    }
   ],
   "source": [
    "fig =sns.figure(figsize=(12, 6)) \n",
    "fig,axes = plt.subplots(1,3)\n",
    "fig=sns.barplot(x=h_ratio.index, y=h_ratio, ax = axes[0])\n",
    "fig1=sns.barplot(x=d_ratio.index, y=d_ratio, ax = axes[1])\n",
    "fig2=sns.barplot(x=a_ratio.index, y=a_ratio, ax = axes[2])\n"
   ]
  },
  {
   "cell_type": "markdown",
   "metadata": {},
   "source": [
    "<a id='conclusions'></a>\n",
    "## Conclusions\n",
    "\n",
    "> **Tip**: Finally, summarize your findings and the results that have been performed. Make sure that you are clear with regards to the limitations of your exploration. If you haven't done any statistical tests, do not imply any statistical conclusions. And make sure you avoid implying causation from correlation!\n",
    "\n",
    "> **Tip**: Once you are satisfied with your work, you should save a copy of the report in HTML or PDF form via the **File** > **Download as** submenu. Before exporting your report, check over it to make sure that the flow of the report is complete. You should probably remove all of the \"Tip\" quotes like this one so that the presentation is as tidy as possible. Congratulations!"
   ]
  },
  {
   "cell_type": "code",
   "execution_count": null,
   "metadata": {},
   "outputs": [],
   "source": []
  }
 ],
 "metadata": {
  "kernelspec": {
   "display_name": "Python 3",
   "language": "python",
   "name": "python3"
  },
  "language_info": {
   "codemirror_mode": {
    "name": "ipython",
    "version": 3
   },
   "file_extension": ".py",
   "mimetype": "text/x-python",
   "name": "python",
   "nbconvert_exporter": "python",
   "pygments_lexer": "ipython3",
   "version": "3.6.5"
  }
 },
 "nbformat": 4,
 "nbformat_minor": 2
}
